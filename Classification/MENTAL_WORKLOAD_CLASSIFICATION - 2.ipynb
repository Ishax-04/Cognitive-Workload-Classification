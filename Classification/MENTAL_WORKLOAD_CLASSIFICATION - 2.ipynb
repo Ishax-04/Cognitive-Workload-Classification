{
 "cells": [
  {
   "cell_type": "code",
   "execution_count": 1,
   "id": "8a398191",
   "metadata": {},
   "outputs": [],
   "source": [
    "import pandas as pd\n",
    "import numpy as np"
   ]
  },
  {
   "cell_type": "code",
   "execution_count": 2,
   "id": "69835a2a",
   "metadata": {},
   "outputs": [],
   "source": [
    "# Conacatinating csv file of each subject\n",
    "\n",
    "df = pd.concat(\n",
    "    map(pd.read_csv, \n",
    "        [r'C:\\Users\\batra\\INMAS\\Sub_2.1.csv',\n",
    "         r'C:\\Users\\batra\\INMAS\\Sub_2.2.csv',\n",
    "         r'C:\\Users\\batra\\INMAS\\Sub_2.3.csv',\n",
    "         r'C:\\Users\\batra\\INMAS\\Sub_2.4.csv',\n",
    "         r'C:\\Users\\batra\\INMAS\\Sub_2.5.csv',\n",
    "         r'C:\\Users\\batra\\INMAS\\Sub_2.6.csv',\n",
    "         r'C:\\Users\\batra\\INMAS\\Sub_2.7.csv',\n",
    "         r'C:\\Users\\batra\\INMAS\\Sub_2.8.csv',\n",
    "         r'C:\\Users\\batra\\INMAS\\Sub_2.9.csv',\n",
    "         r'C:\\Users\\batra\\INMAS\\Sub_2.10.csv',\n",
    "         r'C:\\Users\\batra\\INMAS\\Sub_2.11.csv',\n",
    "         r'C:\\Users\\batra\\INMAS\\Sub_2.12.csv',\n",
    "         r'C:\\Users\\batra\\INMAS\\Sub_2.13.csv',\n",
    "         r'C:\\Users\\batra\\INMAS\\Sub_14_1.csv',\n",
    "          r'C:\\Users\\batra\\INMAS\\Sub_15_1.csv',\n",
    "          r'C:\\Users\\batra\\INMAS\\Sub_16_1.csv',\n",
    "          r'C:\\Users\\batra\\INMAS\\Sub_17_1.csv',\n",
    "          r'C:\\Users\\batra\\INMAS\\Sub_18_1.csv',\n",
    "          r'C:\\Users\\batra\\INMAS\\Sub_19_1.csv',\n",
    "          r'C:\\Users\\batra\\INMAS\\Sub_20_1.csv',\n",
    "          r'C:\\Users\\batra\\INMAS\\Sub_21_1.csv',\n",
    "          r'C:\\Users\\batra\\INMAS\\Sub_22_1.csv',\n",
    "          r'C:\\Users\\batra\\INMAS\\Sub_23_1.csv',\n",
    "          r'C:\\Users\\batra\\INMAS\\Sub_24_1.csv',\n",
    "          r'C:\\Users\\batra\\INMAS\\Sub_25_1.csv',\n",
    "          r'C:\\Users\\batra\\INMAS\\Sub_26_1.csv',\n",
    "        ]))"
   ]
  },
  {
   "cell_type": "code",
   "execution_count": 3,
   "id": "ffc6f082",
   "metadata": {},
   "outputs": [
    {
     "data": {
      "text/plain": [
       "(4671, 254)"
      ]
     },
     "execution_count": 3,
     "metadata": {},
     "output_type": "execute_result"
    }
   ],
   "source": [
    "df.shape"
   ]
  },
  {
   "cell_type": "code",
   "execution_count": 4,
   "id": "54c7c5d6",
   "metadata": {},
   "outputs": [
    {
     "data": {
      "text/plain": [
       "180.0"
      ]
     },
     "execution_count": 4,
     "metadata": {},
     "output_type": "execute_result"
    }
   ],
   "source": [
    "2340/13"
   ]
  },
  {
   "cell_type": "code",
   "execution_count": 5,
   "id": "3ea76f4a",
   "metadata": {},
   "outputs": [],
   "source": [
    "x=np.array(df.values)"
   ]
  },
  {
   "cell_type": "code",
   "execution_count": 6,
   "id": "368da568",
   "metadata": {},
   "outputs": [
    {
     "data": {
      "text/plain": [
       "(4671, 254)"
      ]
     },
     "execution_count": 6,
     "metadata": {},
     "output_type": "execute_result"
    }
   ],
   "source": [
    "x.shape"
   ]
  },
  {
   "cell_type": "code",
   "execution_count": 7,
   "id": "fd85843d",
   "metadata": {},
   "outputs": [
    {
     "data": {
      "text/plain": [
       "1972"
      ]
     },
     "execution_count": 7,
     "metadata": {},
     "output_type": "execute_result"
    }
   ],
   "source": [
    "np.count_nonzero(np.isnan(x))"
   ]
  },
  {
   "cell_type": "code",
   "execution_count": 8,
   "id": "3eb9d854",
   "metadata": {},
   "outputs": [],
   "source": [
    "x=np.nan_to_num(x)"
   ]
  },
  {
   "cell_type": "code",
   "execution_count": 9,
   "id": "a13fdaf2",
   "metadata": {},
   "outputs": [
    {
     "data": {
      "text/plain": [
       "0"
      ]
     },
     "execution_count": 9,
     "metadata": {},
     "output_type": "execute_result"
    }
   ],
   "source": [
    "np.count_nonzero(np.isnan(x))"
   ]
  },
  {
   "cell_type": "code",
   "execution_count": 10,
   "id": "a2fdcd45",
   "metadata": {},
   "outputs": [],
   "source": [
    "x=np.array(x)"
   ]
  },
  {
   "cell_type": "code",
   "execution_count": 11,
   "id": "d5e5f327",
   "metadata": {},
   "outputs": [
    {
     "name": "stdout",
     "output_type": "stream",
     "text": [
      "[3. 3. 3. ... 2. 2. 2.]\n"
     ]
    }
   ],
   "source": [
    "y=x[:,253]\n",
    "print(y)"
   ]
  },
  {
   "cell_type": "code",
   "execution_count": 12,
   "id": "1695bd61",
   "metadata": {},
   "outputs": [
    {
     "data": {
      "text/plain": [
       "(0,)"
      ]
     },
     "execution_count": 12,
     "metadata": {},
     "output_type": "execute_result"
    }
   ],
   "source": [
    "y[y == 1.].shape"
   ]
  },
  {
   "cell_type": "code",
   "execution_count": 13,
   "id": "d1ec331c",
   "metadata": {},
   "outputs": [],
   "source": [
    "x=x[:,1:253]"
   ]
  },
  {
   "cell_type": "code",
   "execution_count": 14,
   "id": "c338bc0d",
   "metadata": {},
   "outputs": [],
   "source": [
    "from sklearn import preprocessing"
   ]
  },
  {
   "cell_type": "code",
   "execution_count": 15,
   "id": "9c986d03",
   "metadata": {},
   "outputs": [],
   "source": [
    "standard_scaler_object = preprocessing.StandardScaler()"
   ]
  },
  {
   "cell_type": "code",
   "execution_count": 16,
   "id": "a7501341",
   "metadata": {},
   "outputs": [],
   "source": [
    "standard_scaler_object.fit(x)\n",
    "x=standard_scaler_object.transform(x)"
   ]
  },
  {
   "cell_type": "code",
   "execution_count": 17,
   "id": "7714ae53",
   "metadata": {},
   "outputs": [
    {
     "data": {
      "text/plain": [
       "array([1., 1., 1., 1., 1., 1., 1., 1., 1., 1., 1., 1., 1., 1., 1., 1., 1.,\n",
       "       1., 1., 1., 1., 1., 1., 1., 1., 1., 1., 1., 1., 1., 1., 1., 1., 1.,\n",
       "       1., 1., 1., 1., 1., 1., 1., 1., 1., 1., 1., 1., 1., 1., 1., 1., 1.,\n",
       "       1., 1., 1., 1., 1., 1., 1., 1., 1., 1., 1., 1., 1., 1., 1., 1., 1.,\n",
       "       1., 1., 1., 1., 1., 1., 1., 1., 1., 1., 1., 1., 1., 1., 1., 1., 1.,\n",
       "       1., 1., 1., 1., 1., 1., 1., 1., 1., 1., 1., 1., 1., 1., 1., 1., 1.,\n",
       "       1., 1., 1., 1., 1., 1., 1., 1., 1., 1., 1., 1., 1., 1., 1., 1., 1.,\n",
       "       1., 1., 1., 1., 1., 1., 1., 1., 1., 1., 1., 1., 1., 1., 1., 1., 1.,\n",
       "       1., 1., 1., 1., 1., 1., 1., 1., 1., 1., 1., 1., 1., 1., 1., 1., 1.,\n",
       "       1., 1., 1., 1., 1., 1., 1., 1., 1., 1., 1., 1., 1., 1., 1., 1., 1.,\n",
       "       1., 1., 1., 1., 1., 1., 1., 1., 1., 1., 1., 1., 1., 1., 1., 1., 1.,\n",
       "       1., 1., 1., 1., 1., 1., 1., 1., 1., 1., 1., 1., 1., 1., 1., 1., 1.,\n",
       "       1., 1., 1., 1., 1., 1., 1., 1., 1., 1., 1., 1., 1., 1., 1., 1., 1.,\n",
       "       1., 1., 1., 1., 1., 1., 1., 1., 1., 1., 1., 1., 1., 1., 1., 1., 1.,\n",
       "       1., 1., 1., 1., 1., 1., 1., 1., 1., 1., 1., 1., 1., 1.])"
      ]
     },
     "execution_count": 17,
     "metadata": {},
     "output_type": "execute_result"
    }
   ],
   "source": [
    "x.std(axis=0)"
   ]
  },
  {
   "cell_type": "code",
   "execution_count": 18,
   "id": "7f78c270",
   "metadata": {},
   "outputs": [
    {
     "name": "stdout",
     "output_type": "stream",
     "text": [
      "(3503, 252) (3503,)\n",
      "(1168, 252) (1168,)\n"
     ]
    }
   ],
   "source": [
    "from sklearn.model_selection import train_test_split\n",
    "x_train,x_test,y_train,y_test= train_test_split(x,y,random_state=42)\n",
    "print(x_train.shape,y_train.shape)\n",
    "print(x_test.shape,y_test.shape)"
   ]
  },
  {
   "cell_type": "code",
   "execution_count": 19,
   "id": "7a176950",
   "metadata": {},
   "outputs": [],
   "source": [
    "from sklearn import metrics"
   ]
  },
  {
   "cell_type": "code",
   "execution_count": 20,
   "id": "860f7650",
   "metadata": {},
   "outputs": [],
   "source": [
    "#1 random forest\n",
    "from sklearn.ensemble import RandomForestClassifier\n",
    "clf = RandomForestClassifier(n_estimators=10000, n_jobs=-1, random_state = 42)"
   ]
  },
  {
   "cell_type": "code",
   "execution_count": 21,
   "id": "13690d2f",
   "metadata": {},
   "outputs": [
    {
     "data": {
      "text/plain": [
       "RandomForestClassifier(n_estimators=10000, n_jobs=-1, random_state=42)"
      ]
     },
     "execution_count": 21,
     "metadata": {},
     "output_type": "execute_result"
    }
   ],
   "source": [
    "# Train the classifier\n",
    "clf.fit(x_train, y_train)"
   ]
  },
  {
   "cell_type": "code",
   "execution_count": 22,
   "id": "2631ba7f",
   "metadata": {},
   "outputs": [],
   "source": [
    "y_test_pred=clf.predict(x_test)"
   ]
  },
  {
   "cell_type": "code",
   "execution_count": 23,
   "id": "51dc6210",
   "metadata": {},
   "outputs": [
    {
     "data": {
      "text/plain": [
       "0.877568493150685"
      ]
     },
     "execution_count": 23,
     "metadata": {},
     "output_type": "execute_result"
    }
   ],
   "source": [
    "clf.score(x_test, y_test)"
   ]
  },
  {
   "cell_type": "code",
   "execution_count": 24,
   "id": "4ed5d7c1",
   "metadata": {},
   "outputs": [
    {
     "data": {
      "text/plain": [
       "0.877568493150685"
      ]
     },
     "execution_count": 24,
     "metadata": {},
     "output_type": "execute_result"
    }
   ],
   "source": [
    "metrics.accuracy_score(y_test,y_test_pred, normalize = True, sample_weight = None)"
   ]
  },
  {
   "cell_type": "code",
   "execution_count": 25,
   "id": "28020f6b",
   "metadata": {},
   "outputs": [
    {
     "data": {
      "text/plain": [
       "array([[701,  15,   8],\n",
       "       [ 32, 165,  19],\n",
       "       [ 33,  36, 159]], dtype=int64)"
      ]
     },
     "execution_count": 25,
     "metadata": {},
     "output_type": "execute_result"
    }
   ],
   "source": [
    "from sklearn.metrics import confusion_matrix\n",
    "confusion_matrix(y_test, y_test_pred)"
   ]
  },
  {
   "cell_type": "code",
   "execution_count": 26,
   "id": "553d9f61",
   "metadata": {},
   "outputs": [
    {
     "data": {
      "text/plain": [
       "DecisionTreeClassifier()"
      ]
     },
     "execution_count": 26,
     "metadata": {},
     "output_type": "execute_result"
    }
   ],
   "source": [
    "#2 Decision Tree\n",
    "from sklearn.tree import DecisionTreeClassifier\n",
    "clf=DecisionTreeClassifier()\n",
    "clf.fit(x_train,y_train)"
   ]
  },
  {
   "cell_type": "code",
   "execution_count": 27,
   "id": "9d59522d",
   "metadata": {},
   "outputs": [],
   "source": [
    "y_test_pred=clf.predict(x_test)"
   ]
  },
  {
   "cell_type": "code",
   "execution_count": 28,
   "id": "61a03e36",
   "metadata": {},
   "outputs": [
    {
     "data": {
      "text/plain": [
       "0.7611301369863014"
      ]
     },
     "execution_count": 28,
     "metadata": {},
     "output_type": "execute_result"
    }
   ],
   "source": [
    "clf.score(x_test,y_test)"
   ]
  },
  {
   "cell_type": "code",
   "execution_count": 29,
   "id": "a7f59f6d",
   "metadata": {},
   "outputs": [
    {
     "data": {
      "text/plain": [
       "0.7611301369863014"
      ]
     },
     "execution_count": 29,
     "metadata": {},
     "output_type": "execute_result"
    }
   ],
   "source": [
    "metrics.accuracy_score(y_test,y_test_pred, normalize = True, sample_weight = None)"
   ]
  },
  {
   "cell_type": "code",
   "execution_count": 30,
   "id": "d57113c4",
   "metadata": {},
   "outputs": [
    {
     "data": {
      "text/plain": [
       "KNeighborsClassifier(n_neighbors=6)"
      ]
     },
     "execution_count": 30,
     "metadata": {},
     "output_type": "execute_result"
    }
   ],
   "source": [
    "#3 KNN\n",
    "from sklearn.neighbors import KNeighborsClassifier\n",
    "model = KNeighborsClassifier(n_neighbors = 6)\n",
    "model.fit(x_train, y_train)"
   ]
  },
  {
   "cell_type": "code",
   "execution_count": 31,
   "id": "732ca614",
   "metadata": {},
   "outputs": [
    {
     "data": {
      "text/plain": [
       "0.740582191780822"
      ]
     },
     "execution_count": 31,
     "metadata": {},
     "output_type": "execute_result"
    }
   ],
   "source": [
    "model.fit(x_train, y_train)\n",
    "y_test_pred = model.predict(x_test)\n",
    "metrics.accuracy_score(y_test, y_test_pred, normalize=True, sample_weight=None)"
   ]
  },
  {
   "cell_type": "code",
   "execution_count": 32,
   "id": "9903e928",
   "metadata": {},
   "outputs": [
    {
     "name": "stdout",
     "output_type": "stream",
     "text": [
      "Accuracy with rbf kernel = 70.29109589041096\n",
      "Accuracy with linear kernel = 73.45890410958904\n",
      "Accuracy with poly kernel = 63.613013698630134\n"
     ]
    }
   ],
   "source": [
    "#4 SVM\n",
    "from sklearn import datasets, svm\n",
    "def evaluate_on_test_data(model=None):\n",
    "    predictions = model.predict(x_test)\n",
    "    correct_classifications = 0\n",
    "    for i in range(len(y_test)):\n",
    "        if predictions[i] == y_test[i]:\n",
    "            correct_classifications += 1\n",
    "    accuracy = 100*correct_classifications/len(y_test) #Accuracy as a percentage\n",
    "    return accuracy\n",
    "\n",
    "kernels = ('rbf','linear','poly')\n",
    "accuracies = []\n",
    "for index, kernel in enumerate(kernels):\n",
    "    model = svm.SVC(kernel=kernel)\n",
    "    model.fit(x_train, y_train)\n",
    "    acc = evaluate_on_test_data(model)\n",
    "    accuracies.append(acc)\n",
    "    print(\"Accuracy with {} kernel = {}\".format(kernel,acc))"
   ]
  },
  {
   "cell_type": "code",
   "execution_count": 33,
   "id": "056e3bbb",
   "metadata": {},
   "outputs": [
    {
     "name": "stderr",
     "output_type": "stream",
     "text": [
      "D:\\Users\\batra\\anaconda3\\lib\\site-packages\\sklearn\\neural_network\\_multilayer_perceptron.py:614: ConvergenceWarning: Stochastic Optimizer: Maximum iterations (200) reached and the optimization hasn't converged yet.\n",
      "  warnings.warn(\n"
     ]
    },
    {
     "data": {
      "text/plain": [
       "MLPClassifier(hidden_layer_sizes=(25,), random_state=1)"
      ]
     },
     "execution_count": 33,
     "metadata": {},
     "output_type": "execute_result"
    }
   ],
   "source": [
    "#5 MLP\n",
    "from sklearn.neural_network import MLPClassifier\n",
    "model = MLPClassifier(hidden_layer_sizes=(25,), random_state=1)\n",
    "model.fit(x_train, y_train)"
   ]
  },
  {
   "cell_type": "code",
   "execution_count": 34,
   "id": "beb60762",
   "metadata": {},
   "outputs": [
    {
     "name": "stderr",
     "output_type": "stream",
     "text": [
      "D:\\Users\\batra\\anaconda3\\lib\\site-packages\\sklearn\\neural_network\\_multilayer_perceptron.py:614: ConvergenceWarning: Stochastic Optimizer: Maximum iterations (200) reached and the optimization hasn't converged yet.\n",
      "  warnings.warn(\n"
     ]
    },
    {
     "data": {
      "text/plain": [
       "0.800513698630137"
      ]
     },
     "execution_count": 34,
     "metadata": {},
     "output_type": "execute_result"
    }
   ],
   "source": [
    "model.fit(x_train, y_train)\n",
    "y_test_pred = model.predict(x_test)\n",
    "metrics.accuracy_score(y_test, y_test_pred, normalize=True, sample_weight=None)"
   ]
  },
  {
   "cell_type": "code",
   "execution_count": 35,
   "id": "eae4641a",
   "metadata": {},
   "outputs": [
    {
     "data": {
      "text/plain": [
       "LinearDiscriminantAnalysis(solver='lsqr')"
      ]
     },
     "execution_count": 35,
     "metadata": {},
     "output_type": "execute_result"
    }
   ],
   "source": [
    "#6 LDA\n",
    "from sklearn.discriminant_analysis import LinearDiscriminantAnalysis\n",
    "model = LinearDiscriminantAnalysis(solver='lsqr', shrinkage=None) #shrinkage='auto'\n",
    "model.fit(x_train, y_train)"
   ]
  },
  {
   "cell_type": "code",
   "execution_count": 36,
   "id": "2a6acd4b",
   "metadata": {},
   "outputs": [
    {
     "data": {
      "text/plain": [
       "0.7191780821917808"
      ]
     },
     "execution_count": 36,
     "metadata": {},
     "output_type": "execute_result"
    }
   ],
   "source": [
    "model.fit(x_train, y_train)\n",
    "y_test_pred = model.predict(x_test)\n",
    "metrics.accuracy_score(y_test, y_test_pred, normalize=True, sample_weight=None)"
   ]
  },
  {
   "cell_type": "code",
   "execution_count": 39,
   "id": "5186b650",
   "metadata": {},
   "outputs": [
    {
     "data": {
      "text/plain": [
       "LogisticRegression(max_iter=500)"
      ]
     },
     "execution_count": 39,
     "metadata": {},
     "output_type": "execute_result"
    }
   ],
   "source": [
    "#7 Logistic Regression\n",
    "from sklearn.linear_model import LogisticRegression\n",
    "clf = LogisticRegression(max_iter = 500)\n",
    "clf.fit(x_train, y_train)"
   ]
  },
  {
   "cell_type": "code",
   "execution_count": 40,
   "id": "76ab6e12",
   "metadata": {},
   "outputs": [
    {
     "data": {
      "text/plain": [
       "0.7371575342465754"
      ]
     },
     "execution_count": 40,
     "metadata": {},
     "output_type": "execute_result"
    }
   ],
   "source": [
    "y_test_pred=clf.predict(x_test)\n",
    "metrics.accuracy_score(y_test, y_test_pred, normalize=True, sample_weight=None)"
   ]
  }
 ],
 "metadata": {
  "kernelspec": {
   "display_name": "Python 3",
   "language": "python",
   "name": "python3"
  },
  "language_info": {
   "codemirror_mode": {
    "name": "ipython",
    "version": 3
   },
   "file_extension": ".py",
   "mimetype": "text/x-python",
   "name": "python",
   "nbconvert_exporter": "python",
   "pygments_lexer": "ipython3",
   "version": "3.8.8"
  }
 },
 "nbformat": 4,
 "nbformat_minor": 5
}
